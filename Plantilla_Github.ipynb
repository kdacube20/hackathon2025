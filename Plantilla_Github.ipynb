{
  "nbformat": 4,
  "nbformat_minor": 0,
  "metadata": {
    "colab": {
      "provenance": [],
      "authorship_tag": "ABX9TyMWE2LkH8acqdSTw+0fVDPv",
      "include_colab_link": true
    },
    "kernelspec": {
      "name": "python3",
      "display_name": "Python 3"
    },
    "language_info": {
      "name": "python"
    }
  },
  "cells": [
    {
      "cell_type": "markdown",
      "metadata": {
        "id": "view-in-github",
        "colab_type": "text"
      },
      "source": [
        "<a href=\"https://colab.research.google.com/github/kdacube20/hackathon2025/blob/main/Plantilla_Github.ipynb\" target=\"_parent\"><img src=\"https://colab.research.google.com/assets/colab-badge.svg\" alt=\"Open In Colab\"/></a>"
      ]
    },
    {
      "cell_type": "markdown",
      "source": [
        "# Setup Project"
      ],
      "metadata": {
        "id": "iih4jyQckYN4"
      }
    },
    {
      "cell_type": "code",
      "source": [
        "# ================================================\n",
        "# Plantilla Hackathon 2025 - Colab + Drive + GitHub\n",
        "# ================================================\n",
        "# 1. Montar Google Drive (para datasets/resultados)\n",
        "from google.colab import drive\n",
        "drive.mount('/content/drive')\n",
        "\n",
        "# Definir rutas en Drive\n",
        "DATA_PATH = \"/content/drive/MyDrive/Hackathon2025\"\n",
        "!ls {DATA_PATH}"
      ],
      "metadata": {
        "colab": {
          "base_uri": "https://localhost:8080/"
        },
        "id": "TVxlDHH5TigH",
        "outputId": "d7b8b6d7-f420-41f8-c67b-8fafc3f40730"
      },
      "execution_count": 37,
      "outputs": [
        {
          "output_type": "stream",
          "name": "stdout",
          "text": [
            "Drive already mounted at /content/drive; to attempt to forcibly remount, call drive.mount(\"/content/drive\", force_remount=True).\n",
            "datasets  modelos  pruebas_hackathon.ipynb  resultados\n"
          ]
        }
      ]
    },
    {
      "cell_type": "code",
      "source": [
        "# 2. Clonar el repositorio de GitHub\n",
        "import os\n",
        "from google.colab import userdata\n",
        "from dotenv import load_dotenv\n",
        "env_path = \"/content/drive/MyDrive/Hackathon2025/.env\"\n",
        "load_dotenv(env_path)\n",
        "GITHUB_TOKEN = os.getenv('GITHUB_TOKEN')\n",
        "GITHUB_USER = \"kdacube20\"\n",
        "REPO_NAME = \"hackathon2025\"\n",
        "\n",
        "!git clone https://{os.environ['GITHUB_TOKEN']}@github.com/{GITHUB_USER}/{REPO_NAME}.git\n",
        "%cd {REPO_NAME}"
      ],
      "metadata": {
        "id": "22CBcIr5kKag"
      },
      "execution_count": null,
      "outputs": []
    },
    {
      "cell_type": "code",
      "source": [
        "!pip install -r hackathon_2025/requirements.txt"
      ],
      "metadata": {
        "colab": {
          "base_uri": "https://localhost:8080/"
        },
        "id": "BGPxDJLMfIlp",
        "outputId": "a07e16f7-22af-4474-8f4b-e6c269e7cd50"
      },
      "execution_count": 38,
      "outputs": [
        {
          "output_type": "stream",
          "name": "stdout",
          "text": [
            "Requirement already satisfied: python-dotenv in /usr/local/lib/python3.12/dist-packages (1.1.1)\n"
          ]
        }
      ]
    },
    {
      "cell_type": "code",
      "source": [
        "# 3. Configuración básica de Git (una sola vez)\n",
        "!git config --global user.email \"kdacube@gmail.com\"\n",
        "!git config --global user.name \"kdacube20\""
      ],
      "metadata": {
        "id": "Uo7jg6IVkVQU"
      },
      "execution_count": null,
      "outputs": []
    },
    {
      "cell_type": "code",
      "execution_count": 41,
      "metadata": {
        "colab": {
          "base_uri": "https://localhost:8080/"
        },
        "id": "mNdGOc24-MYa",
        "outputId": "339dcc27-c830-416f-8218-ae1a17e85f4f"
      },
      "outputs": [
        {
          "output_type": "stream",
          "name": "stdout",
          "text": [
            "Cloning into 'hackathon2025'...\n",
            "remote: Enumerating objects: 15, done.\u001b[K\n",
            "remote: Counting objects: 100% (15/15), done.\u001b[K\n",
            "remote: Compressing objects: 100% (10/10), done.\u001b[K\n",
            "remote: Total 15 (delta 4), reused 11 (delta 3), pack-reused 0 (from 0)\u001b[K\n",
            "Receiving objects: 100% (15/15), done.\n",
            "Resolving deltas: 100% (4/4), done.\n",
            "/content/hackathon2025/hackathon2025/hackathon2025/hackathon2025/hackathon2025\n",
            "Switched to a new branch 'feature/transcripciones'\n",
            "[feature/transcripciones 8d48367] Agrego nuevo módulo inicial de transcripción con Whisper\n",
            " 1 file changed, 7 insertions(+)\n",
            " create mode 100644 transcripcion.py\n",
            "To https://github.com/kdacube20/hackathon2025.git\n",
            " \u001b[31m! [rejected]       \u001b[m feature/transcripciones -> feature/transcripciones (non-fast-forward)\n",
            "\u001b[31merror: failed to push some refs to 'https://github.com/kdacube20/hackathon2025.git'\n",
            "\u001b[m\u001b[33mhint: Updates were rejected because the tip of your current branch is behind\u001b[m\n",
            "\u001b[33mhint: its remote counterpart. Integrate the remote changes (e.g.\u001b[m\n",
            "\u001b[33mhint: 'git pull ...') before pushing again.\u001b[m\n",
            "\u001b[33mhint: See the 'Note about fast-forwards' in 'git push --help' for details.\u001b[m\n"
          ]
        }
      ],
      "source": [
        "# 4. Crear un archivo .gitignore para evitar subir archivos pesados\n",
        "gitignore = \"\"\"\\\n",
        "# Ignorar datasets y modelos locales\n",
        "*.wav\n",
        "*.mp3\n",
        "*.mp4\n",
        "*.csv\n",
        "*.json\n",
        "*.pt\n",
        "*.h5\n",
        "*.pickle\n",
        "\n",
        "# Carpetas grandes\n",
        "/data/\n",
        "/datasets/\n",
        "/models/\n",
        "/checkpoints/\n",
        "\"\"\"\n",
        "with open(\".gitignore\", \"w\") as f:\n",
        "    f.write(gitignore)\n",
        "\n",
        "!git add .gitignore\n",
        "!git commit -m \"Agrego .gitignore para excluir datasets y modelos\"\n",
        "!git push origin main"
      ]
    },
    {
      "cell_type": "code",
      "source": [
        "# 5. Ejemplo: crear un módulo de transcripción\n",
        "codigo = \"\"\"\\\n",
        "from transformers import pipeline\n",
        "\n",
        "pipe = pipeline(\"automatic-speech-recognition\", model=\"openai/whisper-base\")\n",
        "\n",
        "def transcribir_2(audio_path: str):\n",
        "    result = pipe(audio_path)\n",
        "    return result['text']\n",
        "\"\"\"\n",
        "\n",
        "with open(\"transcripcion.py\", \"w\") as f:\n",
        "    f.write(codigo)\n",
        "\n",
        "!git checkout -b feature/transcripciones\n",
        "!git add transcripcion.py\n",
        "!git commit -m \"Agrego nuevo módulo inicial de transcripción con Whisper\"\n",
        "!git push origin feature/transcripciones"
      ],
      "metadata": {
        "id": "uhJqeCkekBip"
      },
      "execution_count": null,
      "outputs": []
    },
    {
      "cell_type": "markdown",
      "source": [
        "Cuando no funcione la actualización correr este código"
      ],
      "metadata": {
        "id": "0o3SJ2wWgEtk"
      }
    },
    {
      "cell_type": "code",
      "source": [
        "# !git config pull.rebase false\n",
        "# !git pull origin feature/transcripciones\n",
        "# !git checkout -b feature/transcripciones\n",
        "# !git add transcripcion.py\n",
        "# !git commit -m \"Agrego nuevo módulo inicial de transcripción con Whisper\"\n",
        "# !git push origin feature/transcripciones"
      ],
      "metadata": {
        "id": "rBhn3NttZYfP"
      },
      "execution_count": 42,
      "outputs": []
    }
  ]
}